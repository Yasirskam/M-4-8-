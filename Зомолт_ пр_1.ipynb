{
  "metadata": {
    "kernelspec": {
      "name": "python",
      "display_name": "Python (Pyodide)",
      "language": "python"
    },
    "language_info": {
      "codemirror_mode": {
        "name": "python",
        "version": 3
      },
      "file_extension": ".py",
      "mimetype": "text/x-python",
      "name": "python",
      "nbconvert_exporter": "python",
      "pygments_lexer": "ipython3",
      "version": "3.8"
    }
  },
  "nbformat_minor": 4,
  "nbformat": 4,
  "cells": [
    {
      "cell_type": "code",
      "source": "import numpy as np\nnp.__version__",
      "metadata": {
        "trusted": true
      },
      "outputs": [
        {
          "execution_count": 1,
          "output_type": "execute_result",
          "data": {
            "text/plain": "'1.26.4'"
          },
          "metadata": {}
        }
      ],
      "execution_count": 1
    },
    {
      "cell_type": "code",
      "source": "import numpy as np\n\n# Зомолт Ясир, ФІТ 4-8, Варіан 11\n# Завдання 1\n# Створіть одновимірний масив (вектор) із арифметичною послідовністю, де кожне наступне число більше попереднього на 5, починаючи з 3, та виведіть його значення.\n\n\n\nstart = 3\nstep = 5\nsize = 10  # Задаємо розмір масиву\n\narray = np.arange(start, start + step * size, step)\narray",
      "metadata": {
        "trusted": true
      },
      "outputs": [
        {
          "execution_count": 3,
          "output_type": "execute_result",
          "data": {
            "text/plain": "array([ 3,  8, 13, 18, 23, 28, 33, 38, 43, 48])"
          },
          "metadata": {}
        }
      ],
      "execution_count": 3
    },
    {
      "cell_type": "code",
      "source": "# Завдання 2\n# Створіть двовимірний масив (матрицю) розміром 3x3, заповніть його добутками кожного числа та його попереднього, починаючи з 1, та виведіть його значення.\n\nmatrix_size = 3\nelements = np.arange(1, matrix_size**2 + 1)\nmatrix = np.array([elements[i] * (elements[i] - 1) for i in range(len(elements))]).reshape(matrix_size, matrix_size)\nmatrix",
      "metadata": {
        "trusted": true
      },
      "outputs": [
        {
          "execution_count": 4,
          "output_type": "execute_result",
          "data": {
            "text/plain": "array([[ 0,  2,  6],\n       [12, 20, 30],\n       [42, 56, 72]])"
          },
          "metadata": {}
        }
      ],
      "execution_count": 4
    },
    {
      "cell_type": "code",
      "source": "# Завдання 3\n# Створіть масив розміром 3x3, заповніть його випадковими натуральними числами від 1 до 2 та знайдіть середнє арифметичне його елементів.\n\nrandom_matrix = np.random.randint(1, 3, size=(3, 3))\nmean_value = np.mean(random_matrix)\n\nrandom_matrix, mean_value",
      "metadata": {
        "trusted": true
      },
      "outputs": [
        {
          "execution_count": 5,
          "output_type": "execute_result",
          "data": {
            "text/plain": "(array([[1, 2, 2],\n        [1, 1, 1],\n        [2, 1, 2]]),\n 1.4444444444444444)"
          },
          "metadata": {}
        }
      ],
      "execution_count": 5
    },
    {
      "cell_type": "code",
      "source": "# Завдання 4\n# Створіть масив розміром 4x4, заповніть його випадковими дійсними числами в діапазоні від 0 до 1 та знайдіть кількість елементів, що більше 0.5.\n\nrandom_matrix_4x4 = np.random.rand(4, 4)\ncount_greater_than_0_5 = np.sum(random_matrix_4x4 > 0.5)\n\nrandom_matrix_4x4, count_greater_than_0_5\n",
      "metadata": {
        "trusted": true
      },
      "outputs": [
        {
          "execution_count": 6,
          "output_type": "execute_result",
          "data": {
            "text/plain": "(array([[0.65925149, 0.37292879, 0.65113389, 0.4436119 ],\n        [0.39873128, 0.02663052, 0.38246612, 0.86715846],\n        [0.78947746, 0.38815741, 0.31398561, 0.46350127],\n        [0.18129042, 0.17821134, 0.297875  , 0.29530576]]),\n 4)"
          },
          "metadata": {}
        }
      ],
      "execution_count": 6
    },
    {
      "cell_type": "code",
      "source": "# Завдання 5\n# Створіть два одновимірних масиви розміром 7, заповніть їх випадковими цілими числами від -15 до 15 та виконайте на них поелементні операції додавання, віднімання та множення.\narray1 = np.random.randint(-15, 16, size=7)\narray2 = np.random.randint(-15, 16, size=7)\n\naddition_result = array1 + array2\nsubtraction_result = array1 - array2\nmultiplication_result = array1 * array2\n\narray1, array2, addition_result, subtraction_result, multiplication_result\n",
      "metadata": {
        "trusted": true
      },
      "outputs": [
        {
          "execution_count": 7,
          "output_type": "execute_result",
          "data": {
            "text/plain": "(array([ 2,  3, -6, 11,  9, -7, -9]),\n array([  6,   0,  -6, -11,   5,  13,  -5]),\n array([  8,   3, -12,   0,  14,   6, -14]),\n array([ -4,   3,   0,  22,   4, -20,  -4]),\n array([  12,    0,   36, -121,   45,  -91,   45]))"
          },
          "metadata": {}
        }
      ],
      "execution_count": 7
    },
    {
      "cell_type": "code",
      "source": "import numpy as np\n\n# Завдання 6\n# Створіть дві матриці 4x4, заповніть їх довільними цілими числами від 1 до 10 та знайдіть їх добуток.\nmatrix1 = np.random.randint(1, 11, size=(4, 4))\nmatrix2 = np.random.randint(1, 11, size=(4, 4))\n\nproduct_matrix = np.dot(matrix1, matrix2)\n\nprint(\"Матриця 1:\")\nprint(matrix1)\nprint(\"\\nМатриця 2:\")\nprint(matrix2)\nprint(\"\\nДобуток матриць:\")\nprint(product_matrix)\n",
      "metadata": {
        "trusted": true
      },
      "outputs": [
        {
          "name": "stdout",
          "text": "Матриця 1:\n[[ 6  1  1  4]\n [ 4  1 10  3]\n [ 2  5  3  5]\n [10  1  4  2]]\n\nМатриця 2:\n[[ 4 10  2  6]\n [ 4 10  2  8]\n [10  3  6  3]\n [ 8  1  9  5]]\n\nДобуток матриць:\n[[ 70  77  56  67]\n [144  83  97  77]\n [ 98  84  77  86]\n [100 124  64  90]]\n",
          "output_type": "stream"
        }
      ],
      "execution_count": 8
    },
    {
      "cell_type": "code",
      "source": "# Завдання 7\n# Створіть дві матриці розміром 4x2 та 2x5, заповніть їх випадковими цілими числами в діапазоні від 1 до 10 та перемножте їх між собою.\n\nmatrix_4x2 = np.random.randint(1, 11, size=(4, 2))\nmatrix_2x5 = np.random.randint(1, 11, size=(2, 5))\n\nproduct_matrix_4x5 = np.dot(matrix_4x2, matrix_2x5)\n\nmatrix_4x2, matrix_2x5, product_matrix_4x5\n",
      "metadata": {
        "trusted": true
      },
      "outputs": [
        {
          "execution_count": 9,
          "output_type": "execute_result",
          "data": {
            "text/plain": "(array([[8, 2],\n        [8, 9],\n        [7, 6],\n        [6, 2]]),\n array([[ 6,  9,  3,  8,  3],\n        [ 4,  1, 10,  9,  5]]),\n array([[ 56,  74,  44,  82,  34],\n        [ 84,  81, 114, 145,  69],\n        [ 66,  69,  81, 110,  51],\n        [ 44,  56,  38,  66,  28]]))"
          },
          "metadata": {}
        }
      ],
      "execution_count": 9
    },
    {
      "cell_type": "code",
      "source": "# Завдання 8\n# Створіть матрицю розміром 2x2, заповніть її випадковими цілими числами в діапазоні від 1 до 12 та знайдіть її обернену матрицю.\n\n\nmatrix_2x2 = np.random.randint(1, 13, size=(2, 2))\n\n# Перевірка, чи матриця має обернену (визначник не дорівнює нулю)\ndeterminant = np.linalg.det(matrix_2x2)\n\nif determinant != 0:\n    inverse_matrix = np.linalg.inv(matrix_2x2)\nelse:\n    inverse_matrix = \"Матриця не має оберненої (визначник дорівнює нулю).\"\n\nmatrix_2x2, inverse_matrix\n",
      "metadata": {
        "trusted": true
      },
      "outputs": [
        {
          "execution_count": 10,
          "output_type": "execute_result",
          "data": {
            "text/plain": "(array([[ 7, 12],\n        [ 7,  5]]),\n array([[-0.10204082,  0.24489796],\n        [ 0.14285714, -0.14285714]]))"
          },
          "metadata": {}
        }
      ],
      "execution_count": 10
    },
    {
      "cell_type": "code",
      "source": "# Завдання 9\n# Створіть матрицю розміром 3x3, заповніть її випадковими дійсними числами в діапазоні від 0 до 1 та транспонуйте її.\n\nmatrix_3x3 = np.random.rand(3, 3)\ntransposed_matrix = np.transpose(matrix_3x3)\n\nmatrix_3x3, transposed_matrix\n",
      "metadata": {
        "trusted": true
      },
      "outputs": [
        {
          "execution_count": 11,
          "output_type": "execute_result",
          "data": {
            "text/plain": "(array([[0.33801596, 0.9334237 , 0.4275417 ],\n        [0.93399766, 0.91244427, 0.43538894],\n        [0.15781458, 0.44180822, 0.83745177]]),\n array([[0.33801596, 0.93399766, 0.15781458],\n        [0.9334237 , 0.91244427, 0.44180822],\n        [0.4275417 , 0.43538894, 0.83745177]]))"
          },
          "metadata": {}
        }
      ],
      "execution_count": 11
    },
    {
      "cell_type": "code",
      "source": "# Завдання 10\n# Створіть матрицю розміром 3x4 та вектор розміром 4x1, заповніть матрицю випадковими дійсними числами від 0 до 1, а вектор - випадковими дійсними числами від 0 до 1 і знайдіть добуток матриці на вектор.\n\n\nmatrix_3x4 = np.random.rand(3, 4)\nvector_4x1 = np.random.rand(4, 1)\n\nproduct_result = np.dot(matrix_3x4, vector_4x1)\n\nmatrix_3x4, vector_4x1, product_result",
      "metadata": {
        "trusted": true
      },
      "outputs": [
        {
          "execution_count": 12,
          "output_type": "execute_result",
          "data": {
            "text/plain": "(array([[0.94806192, 0.14017704, 0.91146934, 0.54944625],\n        [0.34393309, 0.69764363, 0.25367546, 0.94571439],\n        [0.23791088, 0.13587482, 0.77520942, 0.24997375]]),\n array([[0.35655256],\n        [0.00245506],\n        [0.36861928],\n        [0.35652912]]),\n array([[0.8702568 ],\n        [0.55502736],\n        [0.46004137]]))"
          },
          "metadata": {}
        }
      ],
      "execution_count": 12
    },
    {
      "cell_type": "code",
      "source": "# Завдання 11\n# Створіть матрицю розміром 2x3 та вектор розміром 3, заповніть матрицю випадковими дійсними числами від 0 до 1, а вектор - випадковими цілими числами в діапазоні від 1 до 10, і знайдіть добуток матриці на вектор.\n\nmatrix_2x3 = np.random.rand(2, 3)\nvector_3 = np.random.randint(1, 11, size=3)\n\nproduct_result = np.dot(matrix_2x3, vector_3)\n\nmatrix_2x3, vector_3, product_result\n",
      "metadata": {
        "trusted": true
      },
      "outputs": [
        {
          "execution_count": 13,
          "output_type": "execute_result",
          "data": {
            "text/plain": "(array([[0.63245292, 0.63312074, 0.92142382],\n        [0.09056676, 0.50200761, 0.87999135]]),\n array([1, 1, 4]),\n array([4.95126895, 4.11253977]))"
          },
          "metadata": {}
        }
      ],
      "execution_count": 13
    },
    {
      "cell_type": "code",
      "source": "# Завдання 12\n# Створіть дві матриці розміром 4x4, заповніть їх випадковими цілими числами в діапазоні від 1 до 10 та знайдіть різницю всіх елементів обох матриць.\n\n\nmatrix_4x4_a = np.random.randint(1, 11, size=(4, 4))\nmatrix_4x4_b = np.random.randint(1, 11, size=(4, 4))\n\ndifference_matrix = matrix_4x4_a - matrix_4x4_b\n\nmatrix_4x4_a, matrix_4x4_b, difference_matrix",
      "metadata": {
        "trusted": true
      },
      "outputs": [
        {
          "execution_count": 14,
          "output_type": "execute_result",
          "data": {
            "text/plain": "(array([[ 3,  2,  1, 10],\n        [ 9,  2,  6,  9],\n        [ 5,  5,  3,  7],\n        [ 2,  3,  1, 10]]),\n array([[ 2,  6,  4,  6],\n        [10,  9,  9,  1],\n        [ 5,  8,  3,  8],\n        [ 4,  2,  4,  6]]),\n array([[ 1, -4, -3,  4],\n        [-1, -7, -3,  8],\n        [ 0, -3,  0, -1],\n        [-2,  1, -3,  4]]))"
          },
          "metadata": {}
        }
      ],
      "execution_count": 14
    },
    {
      "cell_type": "code",
      "source": "# Завдання 13\n# Створіть дві матриці розміром 3x3, заповніть їх випадковими дійсними числами в діапазоні від -1 до 1 та знайдіть суму їх елементів.\n\nmatrix_3x3_a = np.random.uniform(-1, 1, size=(3, 3))\nmatrix_3x3_b = np.random.uniform(-1, 1, size=(3, 3))\n\nsum_matrix_a = np.sum(matrix_3x3_a)\nsum_matrix_b = np.sum(matrix_3x3_b)\n\nmatrix_3x3_a, sum_matrix_a, matrix_3x3_b, sum_matrix_b\n",
      "metadata": {
        "trusted": true
      },
      "outputs": [
        {
          "execution_count": 15,
          "output_type": "execute_result",
          "data": {
            "text/plain": "(array([[-0.11570866, -0.67636762,  0.73569225],\n        [ 0.58097895, -0.91702442, -0.31025821],\n        [-0.68451241,  0.51789891,  0.31980065]]),\n -0.5495005527199881,\n array([[-0.28353314, -0.99038449,  0.56112201],\n        [ 0.48413692, -0.81545854,  0.29661782],\n        [ 0.02804563,  0.73106596, -0.60523172]]),\n -0.59361956978523)"
          },
          "metadata": {}
        }
      ],
      "execution_count": 15
    },
    {
      "cell_type": "code",
      "source": "# Завдання 14\n# Створіть матрицю розміром 3x3, заповніть її випадковими дійсними числами в діапазоні від -3 до 3 та знайдіть кількість парних елементів матриці.\n\nmatrix_3x3 = np.random.uniform(-3, 3, size=(3, 3))\n\n# Для визначення парних елементів, спочатку округлимо значення до найближчих цілих і перевіримо їх на парність\nrounded_matrix = np.round(matrix_3x3).astype(int)\neven_count = np.sum(rounded_matrix % 2 == 0)\n\nmatrix_3x3, rounded_matrix, even_count\n",
      "metadata": {
        "trusted": true
      },
      "outputs": [
        {
          "execution_count": 16,
          "output_type": "execute_result",
          "data": {
            "text/plain": "(array([[ 0.47904639, -1.40483131,  0.81849008],\n        [-1.85342417, -0.65330765, -1.67959233],\n        [ 0.7835102 , -0.9303033 ,  2.32905734]]),\n array([[ 0, -1,  1],\n        [-2, -1, -2],\n        [ 1, -1,  2]]),\n 4)"
          },
          "metadata": {}
        }
      ],
      "execution_count": 16
    },
    {
      "cell_type": "code",
      "source": "from scipy.stats import gmean\n\n# Завдання 15\n# Створіть матрицю розміром 5x5, заповніть її випадковими дійсними числами в діапазоні від -0.5 до 0.5 та знайдіть вектор-стовпчик, що містить середнє геометричне значення елементів кожного рядка матриці.\nmatrix_5x5 = np.random.uniform(-0.5, 0.5, size=(5, 5))\n\n# Для коректного обчислення середнього геометричного, всі елементи повинні бути додатніми.\n# Тому будемо брати абсолютні значення, оскільки gmean не визначене для від'ємних чисел.\nabs_matrix = np.abs(matrix_5x5)\ngeometric_mean_vector = gmean(abs_matrix, axis=1)\n\nmatrix_5x5, geometric_mean_vector\n",
      "metadata": {
        "trusted": true
      },
      "outputs": [
        {
          "execution_count": 17,
          "output_type": "execute_result",
          "data": {
            "text/plain": "(array([[-0.21196894,  0.21692331, -0.3827809 ,  0.4172954 , -0.12151705],\n        [-0.08234521,  0.46151839,  0.15629801, -0.13635198,  0.24405948],\n        [ 0.28556476,  0.11762405,  0.00243906,  0.38387219,  0.37790686],\n        [-0.39686774, -0.20094594, -0.04752793, -0.18627399, -0.44261441],\n        [-0.44765743, -0.01241086, -0.324461  ,  0.31986454, -0.03076745]]),\n array([0.2455398 , 0.18163   , 0.10351398, 0.19905374, 0.11214852]))"
          },
          "metadata": {}
        }
      ],
      "execution_count": 17
    },
    {
      "cell_type": "code",
      "source": "# Висновок:\n# Під час виконання цієї лабораторної роботи було розв'язано 15 завдань, що охоплюють різні операції з масивами та матрицями в Python за допомогою бібліотеки NumPy.\n# Основні теми, що були охоплені:\n# 1. Створення та маніпуляції з одновимірними та двовимірними масивами, зокрема створення арифметичних послідовностей, випадкових чисел, та виконання поелементних операцій.\n# 2. Застосування лінійної алгебри, включаючи обчислення оберненої матриці, транспонування, множення матриць і векторів, та знаходження середнього геометричного.\n# 3. Обчислення статистичних характеристик, таких як сума, кількість парних елементів, середнє арифметичне та геометричне значення.\n# Всі завдання були виконані з використанням випадкових чисел у відповідних діапазонах, що дозволило проаналізувати різні операції над матрицями та векторами.\n# Таким чином, ця робота допомогла закріпити навички роботи з масивами та матрицями в Python, а також розвинути розуміння різних математичних операцій, які можна застосовувати в чисельних обчисленнях.\n",
      "metadata": {
        "trusted": true
      },
      "outputs": [],
      "execution_count": 18
    },
    {
      "cell_type": "code",
      "source": "",
      "metadata": {
        "trusted": true
      },
      "outputs": [],
      "execution_count": null
    }
  ]
}